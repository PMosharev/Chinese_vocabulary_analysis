{
 "cells": [
  {
   "cell_type": "code",
   "execution_count": 1,
   "metadata": {},
   "outputs": [],
   "source": [
    "import networkx as nx\n",
    "from functions import *\n",
    "import matplotlib.pyplot as plt"
   ]
  },
  {
   "cell_type": "code",
   "execution_count": 2,
   "metadata": {},
   "outputs": [],
   "source": [
    "foldername = '../data/Official_HSK/'\n",
    "from_level = 1\n",
    "to_level = 2\n",
    "filenames = create_filename_list(foldername=foldername, from_level=from_level, to_level=to_level)"
   ]
  },
  {
   "cell_type": "code",
   "execution_count": 3,
   "metadata": {},
   "outputs": [
    {
     "name": "stdout",
     "output_type": "stream",
     "text": [
      "Filename  HSK1\n",
      "Filename  HSK2\n"
     ]
    }
   ],
   "source": [
    "list_of_all_words = []\n",
    "for filename in filenames:\n",
    "    print('Filename ', cut_filename(filename))\n",
    "    list_of_all_words += csv_to_list_of_words(filename)"
   ]
  },
  {
   "cell_type": "code",
   "execution_count": 4,
   "metadata": {},
   "outputs": [],
   "source": [
    "list_of_unique_characters = []\n",
    "for w in list_of_all_words:\n",
    "    if len(w.chinese) == 2:\n",
    "        list_of_unique_characters += [w.chinese[0], w.chinese[1]]\n",
    "set_of_unique_characters = set(list_of_unique_characters)"
   ]
  },
  {
   "cell_type": "code",
   "execution_count": 5,
   "metadata": {},
   "outputs": [
    {
     "name": "stderr",
     "output_type": "stream",
     "text": [
      "c:\\Program Files\\Python310\\lib\\site-packages\\dash_bootstrap_components\\_table.py:5: UserWarning: \n",
      "The dash_html_components package is deprecated. Please replace\n",
      "`import dash_html_components as html` with `from dash import html`\n",
      "  import dash_html_components as html\n"
     ]
    },
    {
     "name": "stdout",
     "output_type": "stream",
     "text": [
      "Parsing the data...Done\n"
     ]
    },
    {
     "data": {
      "text/html": [
       "\n",
       "        <iframe\n",
       "            width=\"100%\"\n",
       "            height=\"650\"\n",
       "            src=\"http://127.0.0.1:8050/\"\n",
       "            frameborder=\"0\"\n",
       "            allowfullscreen\n",
       "            \n",
       "        ></iframe>\n",
       "        "
      ],
      "text/plain": [
       "<IPython.lib.display.IFrame at 0x213092ab760>"
      ]
     },
     "metadata": {},
     "output_type": "display_data"
    },
    {
     "name": "stdout",
     "output_type": "stream",
     "text": [
      "No trigger\n"
     ]
    }
   ],
   "source": [
    "from jaal import Jaal\n",
    "import pandas as pd\n",
    "from dash import html\n",
    "\n",
    "edge_df = pd.DataFrame(columns=['from', 'to'])\n",
    "list_of_unique_entries = []\n",
    "for w in list_of_all_words:\n",
    "    if len(w.chinese) == 2:\n",
    "        if w.chinese not in list_of_unique_entries:\n",
    "            edge_df = pd.concat([edge_df, pd.DataFrame({'from': [w.chinese[0]], 'to': [w.chinese[1]], 'filename': w.filename})])\n",
    "            list_of_unique_entries.append(w.chinese)\n",
    "            list_of_unique_entries.append(w.chinese[::-1])\n",
    "\n",
    "Jaal(edge_df).plot(directed=True)"
   ]
  }
 ],
 "metadata": {
  "kernelspec": {
   "display_name": "Python 3",
   "language": "python",
   "name": "python3"
  },
  "language_info": {
   "codemirror_mode": {
    "name": "ipython",
    "version": 3
   },
   "file_extension": ".py",
   "mimetype": "text/x-python",
   "name": "python",
   "nbconvert_exporter": "python",
   "pygments_lexer": "ipython3",
   "version": "3.10.7"
  }
 },
 "nbformat": 4,
 "nbformat_minor": 2
}
